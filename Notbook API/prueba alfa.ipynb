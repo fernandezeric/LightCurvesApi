{
 "cells": [
  {
   "cell_type": "code",
   "execution_count": 1,
   "metadata": {},
   "outputs": [],
   "source": [
    "import matplotlib\n",
    "import requests\n",
    "import json\n",
    "import pylab\n",
    "import io\n",
    "from astropy.io import ascii\n",
    "from astropy.table import Table\n",
    "from astropy.io.votable import parse\n",
    "from astropy.coordinates import SkyCoord\n",
    "from astropy import units as u"
   ]
  },
  {
   "cell_type": "code",
   "execution_count": null,
   "metadata": {},
   "outputs": [],
   "source": [
    "'''\n",
    "rutas\n",
    "http://127.0.0.1:5000/radio-degree\n",
    "http://127.0.0.1:5000/radio-degree-nearest\n",
    "http://127.0.0.1:5000/radio-hours\n",
    "'''"
   ]
  },
  {
   "cell_type": "code",
   "execution_count": 2,
   "metadata": {},
   "outputs": [],
   "source": [
    "def consulta_degree(ra,dec,radius,format,catalog):\n",
    "    url = 'http://127.0.0.1:5000/radio-degree'\n",
    "    params = {'ra':ra,'dec':dec,'radius':radius,'format':format,'catalog':catalog}\n",
    "    r = requests.post(url, data=params)\n",
    "    return r"
   ]
  },
  {
   "cell_type": "code",
   "execution_count": 3,
   "metadata": {},
   "outputs": [],
   "source": [
    "def consulta_hours(hours,radius,format,catalog):\n",
    "    url = 'http://127.0.0.1:5000/radio-hours'\n",
    "    params = {'hours':hours,'radius':radius,'format':format,'catalog':catalog}\n",
    "    r = requests.post(url, data=params)\n",
    "    return r"
   ]
  },
  {
   "cell_type": "code",
   "execution_count": null,
   "metadata": {},
   "outputs": [],
   "source": [
    "consulta_hora = consulta_hours('1h12m43.2s +1d12m43s',0.002777,'csv','ztf')"
   ]
  },
  {
   "cell_type": "code",
   "execution_count": null,
   "metadata": {},
   "outputs": [],
   "source": [
    "consulta_hora.json().keys()"
   ]
  },
  {
   "cell_type": "code",
   "execution_count": 6,
   "metadata": {},
   "outputs": [],
   "source": [
    "r = consulta_degree(139.33444972,68.6350604,0.0002777,'csv','ztf')"
   ]
  },
  {
   "cell_type": "code",
   "execution_count": 4,
   "metadata": {},
   "outputs": [
    {
     "name": "stdout",
     "output_type": "stream",
     "text": [
      "dict_keys(['curve_ztf'])\n"
     ]
    }
   ],
   "source": [
    "catalogos = r.json().keys()\n",
    "print(catalogos)"
   ]
  },
  {
   "cell_type": "code",
   "execution_count": null,
   "metadata": {},
   "outputs": [],
   "source": [
    "#ascii.read(r.json()['curve_ps1']['190361393343891094'],format='csv', ) \n",
    "#pd.read_csv(r.json()['curve_ps1']['190361393343891094'],dtype=object)"
   ]
  },
  {
   "cell_type": "code",
   "execution_count": 7,
   "metadata": {},
   "outputs": [
    {
     "data": {
      "text/plain": [
       "dict_keys(['841108100002803', '841208100004637'])"
      ]
     },
     "execution_count": 7,
     "metadata": {},
     "output_type": "execute_result"
    }
   ],
   "source": [
    "r.json()['curve_ztf'].keys()"
   ]
  },
  {
   "cell_type": "code",
   "execution_count": null,
   "metadata": {},
   "outputs": [],
   "source": [
    "votable = r.json()['curve_ztf']['841208100004637'].encode(encoding='UTF-8')\n",
    "bio = io.BytesIO(votable)\n",
    "votable = parse(bio)\n",
    "tabla1 = votable.get_first_table()\n",
    "tabla1"
   ]
  },
  {
   "cell_type": "code",
   "execution_count": null,
   "metadata": {},
   "outputs": [],
   "source": [
    "from astropy.io.votable import parse_single_table,from_table, writeto"
   ]
  },
  {
   "cell_type": "code",
   "execution_count": null,
   "metadata": {},
   "outputs": [],
   "source": [
    "table = parse_single_table(bio).to_table()"
   ]
  },
  {
   "cell_type": "code",
   "execution_count": null,
   "metadata": {},
   "outputs": [],
   "source": [
    "tablas = table.group_by('oid')\n",
    "for group in tablas.groups:\n",
    "    buf = io.BytesIO()\n",
    "    votable = from_table(group)\n",
    "    writeto(votable,buf)\n",
    "    #print('#####################################################################################3')\n",
    "    print(buf.getvalue())"
   ]
  },
  {
   "cell_type": "code",
   "execution_count": null,
   "metadata": {
    "scrolled": true
   },
   "outputs": [],
   "source": [
    "tabla = ascii.read(r.json()['curve_ztf']['841108100002803'],  format='csv', guess=False)\n",
    "print(tabla)"
   ]
  },
  {
   "cell_type": "code",
   "execution_count": null,
   "metadata": {},
   "outputs": [],
   "source": [
    "#prueba\n",
    "#url2 = 'http://127.0.0.1:5000/'\n",
    "#r2 = requests.get(url2)\n",
    "#curva_pan = r.json()['curve_pan']"
   ]
  },
  {
   "cell_type": "code",
   "execution_count": null,
   "metadata": {},
   "outputs": [],
   "source": [
    "## para graficar, aun no terminado\n",
    "if 'curve_ps1' in catalogos:\n",
    "    dtab_pan = ascii.read(r.json()['curve_ps1'])\n",
    "    id2filter = np.array(list('grizy'))\n",
    "    dtab_pan['filter'] = id2filter[(dtab_pan['filterID']-1).data]\n",
    "    dtab_pan.sort('obsTime')\n",
    "    \n",
    "    # convert flux in Jy to magnitudes\n",
    "    t = dtab_pan['obsTime']\n",
    "    mag = -2.5*np.log10(dtab_pan['psfFlux']) + 8.90\n",
    "    xlim = np.array([t.min(),t.max()])\n",
    "    xlim = xlim + np.array([-1,1])*0.02*(xlim[1]-xlim[0])\n",
    "\n",
    "    pylab.rcParams.update({'font.size': 14})\n",
    "    pylab.figure(1,(10,10))\n",
    "    for i, filter in enumerate(\"grizy\"):\n",
    "        pylab.subplot(511+i)\n",
    "        w = np.where(dtab_pan['filter']==filter)\n",
    "        pylab.plot(t[w],mag[w],'-o')\n",
    "        pylab.ylabel(filter+' [mag]')\n",
    "        pylab.xlim(xlim)\n",
    "        pylab.gca().invert_yaxis()\n",
    "    # if i==0:\n",
    "       # pylab.title(objname)\n",
    "    pylab.xlabel('Time [MJD]')\n",
    "    pylab.tight_layout()\n",
    "    #print(dtab)"
   ]
  },
  {
   "cell_type": "code",
   "execution_count": null,
   "metadata": {},
   "outputs": [],
   "source": [
    "if 'curve_ztf' in catalogos:\n",
    "    dtab_ztf = ascii.read(r.json()['curve_ztf'])\n",
    "    dtab_ztf.sort('oid')\n",
    "    print(dtab_ztf)"
   ]
  },
  {
   "cell_type": "code",
   "execution_count": null,
   "metadata": {},
   "outputs": [],
   "source": [
    "asd = requests.get('https://irsa.ipac.caltech.edu/ibe/search/ztf/products/sci?POS=139.33444972,68.6350604')"
   ]
  },
  {
   "cell_type": "code",
   "execution_count": null,
   "metadata": {},
   "outputs": [],
   "source": [
    "ddd = requests.get('https://irsa.ipac.caltech.edu/ibe/search/ztf/products/sci?POS=139.33444972,68.6350604&WHERE=infobits<33554432')"
   ]
  },
  {
   "cell_type": "code",
   "execution_count": null,
   "metadata": {},
   "outputs": [],
   "source": [
    "tala = ascii.read(ddd.text, format = 'ipac')\n",
    "if ddd.status_code != 200 :\n",
    "    print(asds)"
   ]
  },
  {
   "cell_type": "code",
   "execution_count": null,
   "metadata": {},
   "outputs": [],
   "source": [
    "a = [1,3,4,5,6,7,4,1]\n",
    "a.index(min(a))"
   ]
  }
 ],
 "metadata": {
  "kernelspec": {
   "display_name": "Python 3",
   "language": "python",
   "name": "python3"
  },
  "language_info": {
   "codemirror_mode": {
    "name": "ipython",
    "version": 3
   },
   "file_extension": ".py",
   "mimetype": "text/x-python",
   "name": "python",
   "nbconvert_exporter": "python",
   "pygments_lexer": "ipython3",
   "version": "3.7.7"
  }
 },
 "nbformat": 4,
 "nbformat_minor": 4
}
